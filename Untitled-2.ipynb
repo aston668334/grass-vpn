{
 "cells": [
  {
   "cell_type": "code",
   "execution_count": 4,
   "metadata": {},
   "outputs": [
    {
     "name": "stderr",
     "output_type": "stream",
     "text": [
      "/Users/liguanwei/Github/grass-vpn/.venv/lib/python3.9/site-packages/urllib3/__init__.py:35: NotOpenSSLWarning: urllib3 v2 only supports OpenSSL 1.1.1+, currently the 'ssl' module is compiled with 'LibreSSL 2.8.3'. See: https://github.com/urllib3/urllib3/issues/3020\n",
      "  warnings.warn(\n"
     ]
    }
   ],
   "source": [
    "import pandas as pd\n",
    "import requests, json, sys, base64, tempfile, subprocess, time\n",
    "import re\n",
    "import os\n",
    "import yaml"
   ]
  },
  {
   "cell_type": "code",
   "execution_count": 5,
   "metadata": {},
   "outputs": [],
   "source": [
    "# Define the API endpoint\n",
    "url = \"https://www.vpngate.net/api/iphone/\"\n",
    "\n",
    "# Make a GET request to the API\n",
    "response = requests.get(url)\n"
   ]
  },
  {
   "cell_type": "code",
   "execution_count": 6,
   "metadata": {},
   "outputs": [],
   "source": [
    "out = response.text[15:]\n",
    "# Split the string by commas and newline characters\n",
    "rows = out.split(\"\\r\\n\")\n",
    "col_name = rows[0].split(\",\")\n",
    "rows_data = rows[1:]\n",
    "data = [row.split(\",\") for row in rows_data]\n",
    "# Create a DataFrame\n",
    "df = pd.DataFrame(data)\n",
    "df.columns = col_name\n",
    "df = df[:-2]"
   ]
  },
  {
   "cell_type": "code",
   "execution_count": 7,
   "metadata": {},
   "outputs": [],
   "source": [
    "def extract_ip_port(contents):\n",
    "\n",
    "    # Regular expression to match the IP address and port\n",
    "    match = re.search(r'remote\\s+([\\d\\.]+)\\s+(\\d+)', contents)\n",
    "    if match:\n",
    "        ip_address = match.group(1)\n",
    "        port = match.group(2)\n",
    "        return ip_address, port\n",
    "    else:\n",
    "        return None, None\n"
   ]
  },
  {
   "cell_type": "code",
   "execution_count": 8,
   "metadata": {},
   "outputs": [],
   "source": [
    "ip_and_port = []\n",
    "for i in df['OpenVPN_ConfigData_Base64']:\n",
    "    aa = base64.b64decode(i)\n",
    "    # Decode the byte string\n",
    "    decoded_string = aa.decode(\"utf-8\")\n",
    "    ip, port = extract_ip_port(decoded_string)\n",
    "    ip_and_port.append((ip, port))"
   ]
  },
  {
   "cell_type": "code",
   "execution_count": 9,
   "metadata": {},
   "outputs": [],
   "source": [
    "\n",
    "directory_path = './vpn_grass'\n",
    "\n",
    "def create_directory_if_not_exists(directory):\n",
    "    if not os.path.exists(directory):\n",
    "        os.makedirs(directory)\n",
    "        # print(f\"Directory '{directory}' created successfully.\")\n",
    "    else:\n",
    "        pass\n",
    "        # print(f\"Directory '{directory}' already exists.\")\n",
    "\n",
    "# Replace 'your_directory_here' with the directory path you want to create\n",
    "create_directory_if_not_exists(directory_path)"
   ]
  },
  {
   "cell_type": "code",
   "execution_count": 10,
   "metadata": {},
   "outputs": [],
   "source": [
    "\n",
    "docker_compose_file_path = './docker-compose_template.yml'\n",
    "\n",
    "def read_docker_compose(file_path):\n",
    "    with open(file_path, 'r') as file:\n",
    "        compose_data = yaml.safe_load(file)\n",
    "    return compose_data\n",
    "\n",
    "def write_docker_compose(file_path, compose_data):\n",
    "    with open(file_path, 'w') as file:\n",
    "        yaml.safe_dump(compose_data, file)\n"
   ]
  },
  {
   "cell_type": "code",
   "execution_count": 11,
   "metadata": {},
   "outputs": [],
   "source": [
    "for i in range(len(ip_and_port)):\n",
    "    ip = ip_and_port[i][0]\n",
    "    port = ip_and_port[i][1]\n",
    "    ip_directory_path = directory_path + '/' + ip\n",
    "    create_directory_if_not_exists(ip_directory_path)\n",
    "    docker_compose_data = read_docker_compose(docker_compose_file_path)\n",
    "    docker_compose_data['services']['grass1']['container_name'] = 'grass' + str(i)\n",
    "    docker_compose_data['services']['vpnclient1']['container_name'] = 'vpnclient' + str(i)\n",
    "    docker_compose_data['services']['vpnclient1']['environment']['VPN_HOST'] = ip\n",
    "    docker_compose_data['services']['vpnclient1']['environment']['VPN_PORT'] = port\n",
    "    docker_compose_data['services']['grass1']['environment'][0] = 'GRASS_USER=' + grass_user\n",
    "    docker_compose_data['services']['grass1']['environment'][1] = 'GRASS_PASS=' + grass_pass\n",
    "    ip_directory_path_docker_compose = ip_directory_path + '/' + 'docker-compose.yml'\n",
    "    write_docker_compose(ip_directory_path_docker_compose,docker_compose_data)\n",
    "    \n"
   ]
  },
  {
   "cell_type": "code",
   "execution_count": 18,
   "metadata": {},
   "outputs": [
    {
     "data": {
      "text/plain": [
       "'/Users/liguanwei/Github/grass-vpn'"
      ]
     },
     "execution_count": 18,
     "metadata": {},
     "output_type": "execute_result"
    }
   ],
   "source": []
  },
  {
   "cell_type": "code",
   "execution_count": 19,
   "metadata": {},
   "outputs": [
    {
     "data": {
      "text/plain": [
       "0"
      ]
     },
     "execution_count": 19,
     "metadata": {},
     "output_type": "execute_result"
    }
   ],
   "source": [
    "def find_docker_compose_files(root_dir):\n",
    "    docker_compose_files = []\n",
    "    for folder, _, files in os.walk(root_dir):\n",
    "        for file in files:\n",
    "            if file == 'docker-compose.yml':\n",
    "                docker_compose_files.append(os.path.join(folder, file))\n",
    "    return docker_compose_files"
   ]
  },
  {
   "cell_type": "code",
   "execution_count": null,
   "metadata": {},
   "outputs": [],
   "source": []
  }
 ],
 "metadata": {
  "kernelspec": {
   "display_name": ".venv",
   "language": "python",
   "name": "python3"
  },
  "language_info": {
   "codemirror_mode": {
    "name": "ipython",
    "version": 3
   },
   "file_extension": ".py",
   "mimetype": "text/x-python",
   "name": "python",
   "nbconvert_exporter": "python",
   "pygments_lexer": "ipython3",
   "version": "3.9.6"
  }
 },
 "nbformat": 4,
 "nbformat_minor": 2
}
