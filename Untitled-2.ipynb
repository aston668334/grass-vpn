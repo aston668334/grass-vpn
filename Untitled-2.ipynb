{
 "cells": [
  {
   "cell_type": "code",
   "execution_count": 1,
   "metadata": {},
   "outputs": [],
   "source": [
    "import pandas as pd\n",
    "import requests, json, sys, base64, tempfile, subprocess, time\n",
    "import re\n",
    "import os\n",
    "import yaml"
   ]
  },
  {
   "cell_type": "code",
   "execution_count": 2,
   "metadata": {},
   "outputs": [],
   "source": [
    "# Define the API endpoint\n",
    "url = \"https://www.vpngate.net/api/iphone/\"\n",
    "\n",
    "# Make a GET request to the API\n",
    "response = requests.get(url)\n"
   ]
  },
  {
   "cell_type": "code",
   "execution_count": 3,
   "metadata": {},
   "outputs": [],
   "source": [
    "out = response.text[15:]\n",
    "# Split the string by commas and newline characters\n",
    "rows = out.split(\"\\r\\n\")\n",
    "col_name = rows[0].split(\",\")\n",
    "rows_data = rows[1:]\n",
    "data = [row.split(\",\") for row in rows_data]\n",
    "# Create a DataFrame\n",
    "df = pd.DataFrame(data)\n",
    "df.columns = col_name\n",
    "df = df[:-2]"
   ]
  },
  {
   "cell_type": "code",
   "execution_count": 25,
   "metadata": {},
   "outputs": [],
   "source": [
    "def extract_ip_port_protocol(contents):\n",
    "    # Regular expression to match the IP address, port, and protocol\n",
    "    ip_port_match = re.search(r'remote\\s+([\\d\\.]+)\\s+(\\d+)', contents)\n",
    "    proto_match = re.search(r'proto\\s+(\\w+)', contents)\n",
    "\n",
    "    ip_address, port, protocol = None, None, None\n",
    "\n",
    "    if ip_port_match:\n",
    "        ip_address = ip_port_match.group(1)\n",
    "        port = ip_port_match.group(2)\n",
    "\n",
    "    if proto_match:\n",
    "        protocol = proto_match.group(1)\n",
    "\n",
    "    return ip_address, port, protocol"
   ]
  },
  {
   "cell_type": "code",
   "execution_count": 26,
   "metadata": {},
   "outputs": [],
   "source": [
    "ip_and_port = []\n",
    "for i in df['OpenVPN_ConfigData_Base64']:\n",
    "    aa = base64.b64decode(i)\n",
    "    # Decode the byte string\n",
    "    decoded_string = aa.decode(\"utf-8\")\n",
    "    ip, port, protocol = extract_ip_port_protocol(decoded_string)\n",
    "    ip_and_port.append((ip, port,protocol))"
   ]
  },
  {
   "cell_type": "code",
   "execution_count": null,
   "metadata": {},
   "outputs": [],
   "source": [
    "\n"
   ]
  },
  {
   "cell_type": "code",
   "execution_count": 28,
   "metadata": {},
   "outputs": [],
   "source": [
    "\n",
    "directory_path = './vpn_grass'\n",
    "\n",
    "def create_directory_if_not_exists(directory):\n",
    "    if not os.path.exists(directory):\n",
    "        os.makedirs(directory)\n",
    "        # print(f\"Directory '{directory}' created successfully.\")\n",
    "    else:\n",
    "        pass\n",
    "        # print(f\"Directory '{directory}' already exists.\")\n",
    "\n",
    "# Replace 'your_directory_here' with the directory path you want to create\n",
    "create_directory_if_not_exists(directory_path)"
   ]
  },
  {
   "cell_type": "code",
   "execution_count": 29,
   "metadata": {},
   "outputs": [],
   "source": [
    "\n",
    "docker_compose_file_path = './docker-compose_template.yml'\n",
    "\n",
    "def read_docker_compose(file_path):\n",
    "    with open(file_path, 'r') as file:\n",
    "        compose_data = yaml.safe_load(file)\n",
    "    return compose_data\n",
    "\n",
    "def write_docker_compose(file_path, compose_data):\n",
    "    with open(file_path, 'w') as file:\n",
    "        yaml.safe_dump(compose_data, file)\n"
   ]
  },
  {
   "cell_type": "code",
   "execution_count": 11,
   "metadata": {},
   "outputs": [],
   "source": [
    "for i in range(len(ip_and_port)):\n",
    "    ip = ip_and_port[i][0]\n",
    "    port = ip_and_port[i][1]\n",
    "    ip_directory_path = directory_path + '/' + ip\n",
    "    create_directory_if_not_exists(ip_directory_path)\n",
    "    docker_compose_data = read_docker_compose(docker_compose_file_path)\n",
    "    docker_compose_data['services']['grass1']['container_name'] = 'grass' + str(i)\n",
    "    docker_compose_data['services']['vpnclient1']['container_name'] = 'vpnclient' + str(i)\n",
    "    docker_compose_data['services']['vpnclient1']['environment']['VPN_HOST'] = ip\n",
    "    docker_compose_data['services']['vpnclient1']['environment']['VPN_PORT'] = port\n",
    "    docker_compose_data['services']['grass1']['environment'][0] = 'GRASS_USER=' + grass_user\n",
    "    docker_compose_data['services']['grass1']['environment'][1] = 'GRASS_PASS=' + grass_pass\n",
    "    ip_directory_path_docker_compose = ip_directory_path + '/' + 'docker-compose.yml'\n",
    "    write_docker_compose(ip_directory_path_docker_compose,docker_compose_data)\n",
    "    \n"
   ]
  },
  {
   "cell_type": "code",
   "execution_count": 18,
   "metadata": {},
   "outputs": [
    {
     "data": {
      "text/plain": [
       "'/Users/liguanwei/Github/grass-vpn'"
      ]
     },
     "execution_count": 18,
     "metadata": {},
     "output_type": "execute_result"
    }
   ],
   "source": []
  },
  {
   "cell_type": "code",
   "execution_count": 20,
   "metadata": {},
   "outputs": [],
   "source": [
    "def find_docker_compose_files(root_dir):\n",
    "    docker_compose_files = []\n",
    "    for folder, _, files in os.walk(root_dir):\n",
    "        for file in files:\n",
    "            if file == 'docker-compose.yml':\n",
    "                docker_compose_files.append(os.path.join(folder, file))\n",
    "    return docker_compose_files"
   ]
  },
  {
   "cell_type": "code",
   "execution_count": 23,
   "metadata": {},
   "outputs": [],
   "source": [
    "docker_compose_list = find_docker_compose_files(os.getcwd())"
   ]
  },
  {
   "cell_type": "code",
   "execution_count": 28,
   "metadata": {},
   "outputs": [],
   "source": [
    "def execute_docker_compose(file_path):\n",
    "    # 切换到 docker-compose.yml 文件所在的目录\n",
    "    os.chdir(os.path.dirname(file_path))\n",
    "    \n",
    "    # 执行 docker-compose 命令\n",
    "    os.command(['sudo docker compose up -d'])"
   ]
  },
  {
   "cell_type": "code",
   "execution_count": 29,
   "metadata": {},
   "outputs": [
    {
     "ename": "AttributeError",
     "evalue": "module 'os' has no attribute 'command'",
     "output_type": "error",
     "traceback": [
      "\u001b[0;31m---------------------------------------------------------------------------\u001b[0m",
      "\u001b[0;31mAttributeError\u001b[0m                            Traceback (most recent call last)",
      "Cell \u001b[0;32mIn[29], line 1\u001b[0m\n\u001b[0;32m----> 1\u001b[0m \u001b[43mexecute_docker_compose\u001b[49m\u001b[43m(\u001b[49m\u001b[43mdocker_compose_list\u001b[49m\u001b[43m[\u001b[49m\u001b[38;5;241;43m0\u001b[39;49m\u001b[43m]\u001b[49m\u001b[43m)\u001b[49m\n",
      "Cell \u001b[0;32mIn[28], line 6\u001b[0m, in \u001b[0;36mexecute_docker_compose\u001b[0;34m(file_path)\u001b[0m\n\u001b[1;32m      3\u001b[0m os\u001b[38;5;241m.\u001b[39mchdir(os\u001b[38;5;241m.\u001b[39mpath\u001b[38;5;241m.\u001b[39mdirname(file_path))\n\u001b[1;32m      5\u001b[0m \u001b[38;5;66;03m# 执行 docker-compose 命令\u001b[39;00m\n\u001b[0;32m----> 6\u001b[0m \u001b[43mos\u001b[49m\u001b[38;5;241;43m.\u001b[39;49m\u001b[43mcommand\u001b[49m([\u001b[38;5;124m'\u001b[39m\u001b[38;5;124msudo docker compose up -d\u001b[39m\u001b[38;5;124m'\u001b[39m])\n",
      "\u001b[0;31mAttributeError\u001b[0m: module 'os' has no attribute 'command'"
     ]
    }
   ],
   "source": [
    "execute_docker_compose(docker_compose_list[0])"
   ]
  },
  {
   "cell_type": "code",
   "execution_count": null,
   "metadata": {},
   "outputs": [],
   "source": []
  }
 ],
 "metadata": {
  "kernelspec": {
   "display_name": ".venv",
   "language": "python",
   "name": "python3"
  },
  "language_info": {
   "codemirror_mode": {
    "name": "ipython",
    "version": 3
   },
   "file_extension": ".py",
   "mimetype": "text/x-python",
   "name": "python",
   "nbconvert_exporter": "python",
   "pygments_lexer": "ipython3",
   "version": "3.12.3"
  }
 },
 "nbformat": 4,
 "nbformat_minor": 2
}
